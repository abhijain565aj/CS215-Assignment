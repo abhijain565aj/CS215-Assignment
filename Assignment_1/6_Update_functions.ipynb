{
 "cells": [
  {
   "cell_type": "code",
   "execution_count": 51,
   "metadata": {},
   "outputs": [],
   "source": [
    "import numpy as np\n",
    "from math import sqrt"
   ]
  },
  {
   "cell_type": "code",
   "execution_count": 52,
   "metadata": {},
   "outputs": [],
   "source": [
    "def UpdateMean(oldMean, newDataValue, n, A):\n",
    "    newMean = (oldMean*n + newDataValue) / (n+1)\n",
    "    return newMean"
   ]
  },
  {
   "cell_type": "code",
   "execution_count": 53,
   "metadata": {},
   "outputs": [],
   "source": [
    "def UpdateStd(oldMean, oldStd, newMean, newDataValue, n, A):\n",
    "    oldVar = oldStd**2\n",
    "    oldMean = ((n+1)*newMean - newDataValue)/n\n",
    "    newVar = (oldVar*(n-1) + n*(oldMean**2) + (newDataValue**2)- (n+1)*(newMean**2)) / n\n",
    "    # newVar = (oldVar*n + n*(oldMean**2) + (newDataValue**2)- (n+1)*(newMean**2)) / (n+1)\n",
    "    # Use the above formula if you want to calculate the variance using the old formuala with 1/n+1 instead of n\n",
    "    # This will give correct results when checking with numpy std dev formula\n",
    "    newStd = sqrt(newVar)\n",
    "    return newStd"
   ]
  },
  {
   "cell_type": "code",
   "execution_count": 54,
   "metadata": {},
   "outputs": [],
   "source": [
    "def UpdateMedian(oldMedian, newDataValue, n, A):\n",
    "    #Assuming A is passed as a sorted numpy array\n",
    "    if(n % 2 == 0):\n",
    "        if(newDataValue <= A[n//2-1]):\n",
    "            newMedian = A[n//2-1]\n",
    "        elif(newDataValue >= A[n//2]):\n",
    "            newMedian = A[n//2]\n",
    "        else:\n",
    "            newMedian = newDataValue\n",
    "    else:\n",
    "        if(newDataValue <= A[n//2-1]):\n",
    "            newMedian = (A[n//2-1] + oldMedian)/2\n",
    "        elif(newDataValue >= A[n//2+1]):\n",
    "            newMedian = (A[n//2+1] + oldMedian)/2\n",
    "        else:\n",
    "            newMedian = (newDataValue + oldMedian)/2\n",
    "    return newMedian\n",
    "        "
   ]
  },
  {
   "cell_type": "code",
   "execution_count": 55,
   "metadata": {},
   "outputs": [
    {
     "name": "stdout",
     "output_type": "stream",
     "text": [
      "Testcase:  1\n",
      "newMean: 448.47, 448.47, False\n",
      "newStd: 279.37, 279.34\n",
      "newMedian: 475.00, 475.00\n",
      "\n",
      "Testcase:  2\n",
      "newMean: 413.38, 413.38, False\n",
      "newStd: 300.70, 300.46\n",
      "newMedian: 362.50, 362.50\n",
      "\n",
      "Testcase:  3\n",
      "newMean: 500.64, 500.64, False\n",
      "newStd: 288.95, 288.85\n",
      "newMedian: 483.00, 483.00\n",
      "\n",
      "Testcase:  4\n",
      "newMean: 530.65, 530.65, True\n",
      "newStd: 306.16, 306.12\n",
      "newMedian: 588.00, 588.00\n",
      "\n",
      "Testcase:  5\n",
      "newMean: 470.62, 470.62, False\n",
      "newStd: 295.24, 294.95\n",
      "newMedian: 469.00, 469.00\n",
      "\n",
      "Testcase:  6\n",
      "newMean: 492.46, 492.46, False\n",
      "newStd: 276.08, 276.02\n",
      "newMedian: 498.00, 498.00\n",
      "\n",
      "Testcase:  7\n",
      "newMean: 526.29, 526.29, False\n",
      "newStd: 280.83, 280.79\n",
      "newMedian: 553.00, 553.00\n",
      "\n",
      "Testcase:  8\n",
      "newMean: 484.52, 484.52, False\n",
      "newStd: 291.32, 291.27\n",
      "newMedian: 467.00, 467.00\n",
      "\n",
      "Testcase:  9\n",
      "newMean: 482.87, 482.87, False\n",
      "newStd: 307.26, 307.23\n",
      "newMedian: 476.00, 476.00\n",
      "\n",
      "Testcase:  10\n",
      "newMean: 462.52, 462.52, False\n",
      "newStd: 303.73, 303.64\n",
      "newMedian: 368.00, 368.00\n",
      "\n"
     ]
    }
   ],
   "source": [
    "#Testing\n",
    "testcases = 10\n",
    "for i in range(testcases):\n",
    "    size = np.random.randint(10, 100)\n",
    "    A = np.array(np.random.randint(0, 1000, size))\n",
    "    A = np.sort(A)\n",
    "    n = int(len(A))\n",
    "    oldMean = np.mean(A)\n",
    "    oldStd = np.std(A)\n",
    "    oldMedian = np.median(A)\n",
    "    newDataValue = 11\n",
    "    newMean = UpdateMean(oldMean, newDataValue, n, A)\n",
    "    newStd = UpdateStd(oldMean, oldStd, newMean, newDataValue, n, A)\n",
    "    newMedian = UpdateMedian(oldMedian, newDataValue, n, A)\n",
    "    A = np.append(A, newDataValue)\n",
    "    print(\"Testcase: \", i+1)\n",
    "    print(f'newMean: {newMean:.2f}, {np.mean(A):.2f}')\n",
    "    print(f'newStd: {newStd:.2f}, {np.std(A):.2f}')\n",
    "    print(f'newMedian: {newMedian:.2f}, {np.median(A):.2f}')\n",
    "    print()"
   ]
  },
  {
   "cell_type": "markdown",
   "metadata": {},
   "source": [
    "The difference in the standard deviation comess from the fact that we are using the formula with 1/n-1 term instead of 1/n term in variance. We can get the desired results by uncommenting and commenting the lines in updateStdDev formula"
   ]
  }
 ],
 "metadata": {
  "kernelspec": {
   "display_name": "Python 3",
   "language": "python",
   "name": "python3"
  },
  "language_info": {
   "codemirror_mode": {
    "name": "ipython",
    "version": 3
   },
   "file_extension": ".py",
   "mimetype": "text/x-python",
   "name": "python",
   "nbconvert_exporter": "python",
   "pygments_lexer": "ipython3",
   "version": "3.12.1"
  }
 },
 "nbformat": 4,
 "nbformat_minor": 2
}
