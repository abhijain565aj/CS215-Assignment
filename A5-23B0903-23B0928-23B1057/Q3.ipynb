{
 "cells": [
  {
   "cell_type": "markdown",
   "metadata": {},
   "source": [
    "# Q3 Fare Frenzy: Understanding fare, tips, and customer behavior (15 Marks)\n",
    "## Fare and Tips Overview\n",
    "**Description:** Examine the relationship between fare, tips, and payment behavior, analyzing any patterns or anomalies. This section should help understand customer behavior and fare distribution.\n"
   ]
  },
  {
   "cell_type": "code",
   "execution_count": null,
   "metadata": {},
   "outputs": [],
   "source": [
    "#imports\n",
    "import numpy as np\n",
    "import pandas as pd\n",
    "import matplotlib.pyplot as plt\n",
    "import seaborn as sns\n",
    "\n",
    "# Load the dataset\n",
    "df = pd.read_csv('./TaxiData.csv')"
   ]
  },
  {
   "cell_type": "markdown",
   "metadata": {},
   "source": [
    "### 3.a Fare and Tip Distribution (4 Marks):\n",
    "\n",
    "(a) Create histograms and box plots for both fare and tip amounts.\n",
    "\n",
    "(b) Identify the range, outliers, and any clusters in the data.\n",
    "\n",
    "(c) Interpretation: Provide a statistical summary(mean, median, standard deviation,), and analyze any patterns in fare and tipping  behavior, such as outliers or clusters in high or low values."
   ]
  },
  {
   "cell_type": "code",
   "execution_count": null,
   "metadata": {},
   "outputs": [],
   "source": []
  },
  {
   "cell_type": "markdown",
   "metadata": {},
   "source": [
    "### 3.b Payment Method Insights (3 Marks):\n",
    "\n",
    "(a) Visualize the frequency of each payment method using bar charts or pie charts.\n",
    "\n",
    "(b) Interpretation: Identify any dominant payment methods and discuss how this may impact service providers\n"
   ]
  },
  {
   "cell_type": "code",
   "execution_count": null,
   "metadata": {},
   "outputs": [],
   "source": []
  },
  {
   "cell_type": "markdown",
   "metadata": {},
   "source": [
    "### 3.c Tips by Payment Method (3 Marks):\n",
    "\n",
    "(a) Create a box plot to compare tips across different payment methods.\n",
    "\n",
    "(b) Interpretation: Summarize the average tipping amounts for each method and analyze variations."
   ]
  },
  {
   "cell_type": "code",
   "execution_count": null,
   "metadata": {},
   "outputs": [],
   "source": []
  },
  {
   "cell_type": "markdown",
   "metadata": {},
   "source": [
    "\n",
    "### 3.d Fare vs. Distance (5 Marks):\n",
    "\n",
    "(a) Plot a scatter plot showing the relationship between trip distance and fare.\n",
    "\n",
    "(b) Calculate and interpret the correlation coefficient between the two variables.\n",
    "\n",
    "(c) Interpretation: Explain any findings on the fare-distance relationship and outline any potential implications for fare pricing."
   ]
  },
  {
   "cell_type": "code",
   "execution_count": null,
   "metadata": {},
   "outputs": [],
   "source": []
  }
 ],
 "metadata": {
  "kernelspec": {
   "display_name": "Python 3",
   "language": "python",
   "name": "python3"
  },
  "language_info": {
   "name": "python",
   "version": "3.12.1"
  }
 },
 "nbformat": 4,
 "nbformat_minor": 2
}
