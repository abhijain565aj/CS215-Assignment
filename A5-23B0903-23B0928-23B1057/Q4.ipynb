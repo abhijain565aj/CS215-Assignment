{
 "cells": [
  {
   "cell_type": "markdown",
   "metadata": {},
   "source": [
    "# Q4 Data Mayhem: Conjuring insights from the data (9 Marks)\n",
    "## Advanced Data Analysis and Prediction\n",
    "**Description:** This section will involve investigating unusual data patterns, building predictive models, and reducing dimensionality to gain deeper insights.\n"
   ]
  },
  {
   "cell_type": "code",
   "execution_count": null,
   "metadata": {},
   "outputs": [],
   "source": [
    "#imports\n",
    "import numpy as np\n",
    "import pandas as pd\n",
    "import matplotlib.pyplot as plt\n",
    "import seaborn as sns\n",
    "\n",
    "# Load the dataset\n",
    "df = pd.read_csv('./TaxiData.csv')"
   ]
  },
  {
   "cell_type": "markdown",
   "metadata": {},
   "source": [
    "### 4.a Outliers in Fare and Tips (4 Marks):\n",
    "\n",
    "(a) Use box plots to identify outliers in fare and tip values.\n",
    "\n",
    "(b) Interpretation: Discuss how these outliers might skew average calculations.\n",
    "\n",
    "(c) Suggest methods for handling these outliers in predictive models (e.g., removal or adjustment).\n"
   ]
  },
  {
   "cell_type": "code",
   "execution_count": null,
   "metadata": {},
   "outputs": [],
   "source": []
  },
  {
   "cell_type": "markdown",
   "metadata": {},
   "source": [
    "\n",
    "### 4.b Predicting Fare (5 Marks):\n",
    "\n",
    "(a) Implement a regression model using distance, trip duration, and location as predictors to estimate fares.\n",
    "\n",
    "(b) Model Evaluation: Present metrics such as RMSE to assess model accuracy.\n",
    "\n",
    "(c) Discuss the effectiveness of the model, noting any potential limitations or areas for improvement."
   ]
  },
  {
   "cell_type": "code",
   "execution_count": null,
   "metadata": {},
   "outputs": [],
   "source": []
  }
 ],
 "metadata": {
  "kernelspec": {
   "display_name": "Python 3",
   "language": "python",
   "name": "python3"
  },
  "language_info": {
   "name": "python",
   "version": "3.12.1"
  }
 },
 "nbformat": 4,
 "nbformat_minor": 2
}
