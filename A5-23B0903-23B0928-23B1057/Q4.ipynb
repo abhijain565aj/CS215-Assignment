{
 "cells": [
  {
   "cell_type": "markdown",
   "metadata": {},
   "source": [
    "# Q4 Data Mayhem: Conjuring insights from the data (9 Marks)\n",
    "## Advanced Data Analysis and Prediction\n",
    "**Description:** This section will involve investigating unusual data patterns, building predictive models, and reducing dimensionality to gain deeper insights.\n"
   ]
  },
  {
   "cell_type": "markdown",
   "metadata": {},
   "source": [
    "\n",
    "# 4.a Outliers in Fare and Tips (4 Marks):\n",
    "(a) Use box plots to identify outliers in fare and tip values.\n",
    "(b) Interpretation: Discuss how these outliers might skew average calculations.\n",
    "(c) Suggest methods for handling these outliers in predictive models (e.g., removal or adjustment).\n"
   ]
  },
  {
   "cell_type": "code",
   "execution_count": null,
   "metadata": {
    "vscode": {
     "languageId": "plaintext"
    }
   },
   "outputs": [],
   "source": []
  },
  {
   "cell_type": "markdown",
   "metadata": {},
   "source": [
    "\n",
    "# 4.b Predicting Fare (5 Marks):\n",
    "(a) Implement a regression model using distance, trip duration, and location as predictors to estimate fares.\n",
    "(b) Model Evaluation: Present metrics such as RMSE to assess model accuracy.\n",
    "(c) Discuss the effectiveness of the model, noting any potential limitations or areas for improvement."
   ]
  },
  {
   "cell_type": "code",
   "execution_count": null,
   "metadata": {
    "vscode": {
     "languageId": "plaintext"
    }
   },
   "outputs": [],
   "source": []
  }
 ],
 "metadata": {
  "language_info": {
   "name": "python"
  }
 },
 "nbformat": 4,
 "nbformat_minor": 2
}
