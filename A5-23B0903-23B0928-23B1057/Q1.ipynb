{
 "cells": [
  {
   "cell_type": "markdown",
   "metadata": {},
   "source": [
    "# Q1 Data Icebreaker: Let’s break the ice with some data! (3 Marks)"
   ]
  },
  {
   "cell_type": "code",
   "execution_count": null,
   "metadata": {
    "id": "IiMx7COlpbia"
   },
   "outputs": [],
   "source": [
    "#imports\n",
    "import numpy as np\n",
    "import pandas as pd\n",
    "import matplotlib.pyplot as plt\n",
    "import seaborn as sns"
   ]
  },
  {
   "cell_type": "code",
   "execution_count": null,
   "metadata": {
    "id": "dUblyP3wpho_"
   },
   "outputs": [],
   "source": [
    "# Load the dataset\n",
    "df = pd.read_csv('/path/to/TaxiData.csv')"
   ]
  },
  {
   "cell_type": "markdown",
   "metadata": {
    "id": "hnOgRMuvoI9p"
   },
   "source": [
    "```\n",
    "Analysis on overall Dataset.\n",
    "Provide info about columns and its Datatypes.\n",
    "State missing values and other organic analysis.\n",
    "```"
   ]
  },
  {
   "cell_type": "markdown",
   "metadata": {
    "id": "_lBhbIr7xFrf"
   },
   "source": [
    "### Q1.a\n",
    "Categorize columns: classify columns as categorical, numerical, or mixed data types."
   ]
  },
  {
   "cell_type": "code",
   "execution_count": null,
   "metadata": {
    "id": "W-DM1sAAn8EK"
   },
   "outputs": [],
   "source": [
    "# Check data shape, summary, ...\n",
    "\n",
    "# Identify missing values\n",
    "# Plot missing values (customize as needed)\n",
    "# missing_values.plot(...)\n",
    "\n",
    "# Any change of data type conversion required?\n"
   ]
  },
  {
   "cell_type": "markdown",
   "metadata": {},
   "source": [
    "### Q1.b\n",
    "Type Conversion: Convert data types where necessary to facilitate analysis, noting why certain columns are converted."
   ]
  },
  {
   "cell_type": "code",
   "execution_count": null,
   "metadata": {
    "id": "N-wtsijYp4cg"
   },
   "outputs": [],
   "source": []
  },
  {
   "cell_type": "markdown",
   "metadata": {},
   "source": [
    "### Q1.c\n",
    "Identify Missing Values: Check for missing values in each column and visualize them using a heatmap or bar chart. Discuss which columns have significant missing values."
   ]
  },
  {
   "cell_type": "code",
   "execution_count": null,
   "metadata": {},
   "outputs": [],
   "source": []
  },
  {
   "cell_type": "markdown",
   "metadata": {},
   "source": [
    "### Q1.d\n",
    "Handling Missing Values: Propose methods to handle missing data based on the column’s type (e.g., mean imputation for numerical,) and apply them where ever appropriate. Mention the method used and the column name on which it is applied."
   ]
  },
  {
   "cell_type": "code",
   "execution_count": null,
   "metadata": {},
   "outputs": [],
   "source": []
  }
 ],
 "metadata": {
  "colab": {
   "provenance": []
  },
  "kernelspec": {
   "display_name": "Python 3",
   "name": "python3"
  },
  "language_info": {
   "name": "python"
  }
 },
 "nbformat": 4,
 "nbformat_minor": 0
}
