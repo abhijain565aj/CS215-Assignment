{
 "cells": [
  {
   "cell_type": "markdown",
   "metadata": {},
   "source": [
    "# Q2 Rush Hour Rush: A race against time and distance (15 Marks)\n",
    "## Trip Patterns Over Time and Distance\n",
    "**Description:** Analyze taxi trip data to understand variations in trip frequency by time, distance, and seasonal patterns. You will need to interpret these visualizations in relation to time-based trends and how they impact taxi usage."
   ]
  },
  {
   "cell_type": "code",
   "execution_count": null,
   "metadata": {},
   "outputs": [],
   "source": [
    "#imports\n",
    "import numpy as np\n",
    "import pandas as pd\n",
    "import matplotlib.pyplot as plt\n",
    "import seaborn as sns\n",
    "\n",
    "# Load the dataset\n",
    "df = pd.read_csv('./TaxiData.csv')"
   ]
  },
  {
   "cell_type": "markdown",
   "metadata": {},
   "source": [
    "### 2.a Trip Frequency by Time of Day, Month, and Day (3 Marks):\n",
    "(a) Create bar charts to visualize trip distributions for:\n",
    "\n",
    "• Hours of the Day (to capture daily patterns and peak hours)\n",
    "\n",
    "• Days of the Week (to identify weekday vs. weekend patterns)\n",
    "\n",
    "• Months of the Year (to see seasonal trends, if any)\n",
    "\n",
    "(b) Describe notable patterns, like peak hours, high-demand days and peak months. Discuss how these patterns could be relevant for managing taxi demand."
   ]
  },
  {
   "cell_type": "code",
   "execution_count": null,
   "metadata": {},
   "outputs": [],
   "source": []
  },
  {
   "cell_type": "markdown",
   "metadata": {},
   "source": [
    "### 2.b Peak Hours and Distance Analysis (3 Marks):\n",
    "\n",
    "(a) Identify Peak Hours: Create a heatmap showing trip frequency by the hour to identify the busiest hours for taxi trips.\n",
    "\n",
    "(b) Distance Analysis: Use a histogram to analyze the distribution of trip distances during peak hours.\n",
    "\n",
    "(c) Interpretation: Discuss how peak hours combined with distance trends might affect taxi service efficiency (e.g., congestion, longer wait times)."
   ]
  },
  {
   "cell_type": "code",
   "execution_count": null,
   "metadata": {},
   "outputs": [],
   "source": []
  },
  {
   "cell_type": "markdown",
   "metadata": {},
   "source": [
    "### 2.c Trip Duration and Distance Distribution (3 Marks):\n",
    "\n",
    "(a) Plot histograms for trip duration and trip distance to display their distributions. What can you infer from each histogram?\n",
    "\n",
    "(b) Correlation Analysis: Use a scatter plot to show the relationship between trip duration and distance.\n",
    "\n",
    "(c) Interpretation: Comment on any noticeable outliers or trends, especially patterns that could influence route planning."
   ]
  },
  {
   "cell_type": "code",
   "execution_count": null,
   "metadata": {},
   "outputs": [],
   "source": []
  },
  {
   "cell_type": "markdown",
   "metadata": {},
   "source": [
    "### 2.d Seasonal Trends in Taxi Usage and Distance (3 Marks):\n",
    "\n",
    "(a) Use line charts to track the number of trips and average trip distance across months to identify seasonal peaks and lows.\n",
    "\n",
    "(b) Interpretation: Explain how these trends could influence resource allocation during high-demand periods (e.g., holiday season).\n"
   ]
  },
  {
   "cell_type": "code",
   "execution_count": null,
   "metadata": {},
   "outputs": [],
   "source": []
  },
  {
   "cell_type": "markdown",
   "metadata": {},
   "source": [
    "### 2.e Distance vs. Time of Day (3 Marks):\n",
    "\n",
    "(a) Plot the variation in trip distances across hours of the day to capture typical distance trends for peak and non-peak hours.\n",
    "\n",
    "(b) Interpretation: Explain your findings, including any insights into typical distance trends during peak and non-peak hours.\n"
   ]
  },
  {
   "cell_type": "code",
   "execution_count": null,
   "metadata": {},
   "outputs": [],
   "source": []
  }
 ],
 "metadata": {
  "kernelspec": {
   "display_name": "Python 3",
   "language": "python",
   "name": "python3"
  },
  "language_info": {
   "name": "python",
   "version": "3.12.1"
  }
 },
 "nbformat": 4,
 "nbformat_minor": 2
}
